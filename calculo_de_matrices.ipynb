{
  "nbformat": 4,
  "nbformat_minor": 0,
  "metadata": {
    "colab": {
      "name": "calculo de  matrices",
      "provenance": [],
      "authorship_tag": "ABX9TyMMc+0rkassDBfAgd0XQ+Di",
      "include_colab_link": true
    },
    "kernelspec": {
      "name": "python3",
      "display_name": "Python 3"
    },
    "widgets": {
      "application/vnd.jupyter.widget-state+json": {
        "1968069c941c40db9031c45addd9909d": {
          "model_module": "@jupyter-widgets/controls",
          "model_name": "VBoxModel",
          "state": {
            "_view_name": "VBoxView",
            "_dom_classes": [
              "widget-interact"
            ],
            "_model_name": "VBoxModel",
            "_view_module": "@jupyter-widgets/controls",
            "_model_module_version": "1.5.0",
            "_view_count": null,
            "_view_module_version": "1.5.0",
            "box_style": "",
            "layout": "IPY_MODEL_d00666a60ad242b0befc58a295f8ec4a",
            "_model_module": "@jupyter-widgets/controls",
            "children": [
              "IPY_MODEL_00366969321946e5a03de01d1a8eba94",
              "IPY_MODEL_c58dd10019364c5a8a9effde50b4b8c1",
              "IPY_MODEL_06690d5a7b294aaebb104d7d37071fc2"
            ]
          }
        },
        "d00666a60ad242b0befc58a295f8ec4a": {
          "model_module": "@jupyter-widgets/base",
          "model_name": "LayoutModel",
          "state": {
            "_view_name": "LayoutView",
            "grid_template_rows": null,
            "right": null,
            "justify_content": null,
            "_view_module": "@jupyter-widgets/base",
            "overflow": null,
            "_model_module_version": "1.2.0",
            "_view_count": null,
            "flex_flow": null,
            "width": null,
            "min_width": null,
            "border": null,
            "align_items": null,
            "bottom": null,
            "_model_module": "@jupyter-widgets/base",
            "top": null,
            "grid_column": null,
            "overflow_y": null,
            "overflow_x": null,
            "grid_auto_flow": null,
            "grid_area": null,
            "grid_template_columns": null,
            "flex": null,
            "_model_name": "LayoutModel",
            "justify_items": null,
            "grid_row": null,
            "max_height": null,
            "align_content": null,
            "visibility": null,
            "align_self": null,
            "height": null,
            "min_height": null,
            "padding": null,
            "grid_auto_rows": null,
            "grid_gap": null,
            "max_width": null,
            "order": null,
            "_view_module_version": "1.2.0",
            "grid_template_areas": null,
            "object_position": null,
            "object_fit": null,
            "grid_auto_columns": null,
            "margin": null,
            "display": null,
            "left": null
          }
        },
        "00366969321946e5a03de01d1a8eba94": {
          "model_module": "@jupyter-widgets/controls",
          "model_name": "FloatSliderModel",
          "state": {
            "_view_name": "FloatSliderView",
            "style": "IPY_MODEL_00d206e32260487da7eb2fb67ac0793c",
            "_dom_classes": [],
            "description": "y0",
            "step": 0.1,
            "_model_name": "FloatSliderModel",
            "orientation": "horizontal",
            "max": 2,
            "_view_module": "@jupyter-widgets/controls",
            "_model_module_version": "1.5.0",
            "value": 0,
            "_view_count": null,
            "disabled": false,
            "_view_module_version": "1.5.0",
            "min": -2,
            "continuous_update": true,
            "readout_format": ".2f",
            "description_tooltip": null,
            "readout": true,
            "_model_module": "@jupyter-widgets/controls",
            "layout": "IPY_MODEL_e76e913bf80743d599127d90f1cf1c47"
          }
        },
        "c58dd10019364c5a8a9effde50b4b8c1": {
          "model_module": "@jupyter-widgets/controls",
          "model_name": "FloatSliderModel",
          "state": {
            "_view_name": "FloatSliderView",
            "style": "IPY_MODEL_00667edbb6dd4e84a091402877d4947f",
            "_dom_classes": [],
            "description": "angulo0",
            "step": 0.01,
            "_model_name": "FloatSliderModel",
            "orientation": "horizontal",
            "max": 0.1,
            "_view_module": "@jupyter-widgets/controls",
            "_model_module_version": "1.5.0",
            "value": 0,
            "_view_count": null,
            "disabled": false,
            "_view_module_version": "1.5.0",
            "min": -0.1,
            "continuous_update": true,
            "readout_format": ".2f",
            "description_tooltip": null,
            "readout": true,
            "_model_module": "@jupyter-widgets/controls",
            "layout": "IPY_MODEL_aa15005e12d84c399f309f0663eb5234"
          }
        },
        "06690d5a7b294aaebb104d7d37071fc2": {
          "model_module": "@jupyter-widgets/output",
          "model_name": "OutputModel",
          "state": {
            "_view_name": "OutputView",
            "msg_id": "",
            "_dom_classes": [],
            "_model_name": "OutputModel",
            "outputs": [
              {
                "output_type": "display_data",
                "metadata": {
                  "tags": []
                },
                "text/plain": "matrix([[0.],\n        [0.]])"
              }
            ],
            "_view_module": "@jupyter-widgets/output",
            "_model_module_version": "1.0.0",
            "_view_count": null,
            "_view_module_version": "1.0.0",
            "layout": "IPY_MODEL_399a74134e10495691a2e7772ff4028f",
            "_model_module": "@jupyter-widgets/output"
          }
        },
        "00d206e32260487da7eb2fb67ac0793c": {
          "model_module": "@jupyter-widgets/controls",
          "model_name": "SliderStyleModel",
          "state": {
            "_view_name": "StyleView",
            "handle_color": null,
            "_model_name": "SliderStyleModel",
            "description_width": "",
            "_view_module": "@jupyter-widgets/base",
            "_model_module_version": "1.5.0",
            "_view_count": null,
            "_view_module_version": "1.2.0",
            "_model_module": "@jupyter-widgets/controls"
          }
        },
        "e76e913bf80743d599127d90f1cf1c47": {
          "model_module": "@jupyter-widgets/base",
          "model_name": "LayoutModel",
          "state": {
            "_view_name": "LayoutView",
            "grid_template_rows": null,
            "right": null,
            "justify_content": null,
            "_view_module": "@jupyter-widgets/base",
            "overflow": null,
            "_model_module_version": "1.2.0",
            "_view_count": null,
            "flex_flow": null,
            "width": null,
            "min_width": null,
            "border": null,
            "align_items": null,
            "bottom": null,
            "_model_module": "@jupyter-widgets/base",
            "top": null,
            "grid_column": null,
            "overflow_y": null,
            "overflow_x": null,
            "grid_auto_flow": null,
            "grid_area": null,
            "grid_template_columns": null,
            "flex": null,
            "_model_name": "LayoutModel",
            "justify_items": null,
            "grid_row": null,
            "max_height": null,
            "align_content": null,
            "visibility": null,
            "align_self": null,
            "height": null,
            "min_height": null,
            "padding": null,
            "grid_auto_rows": null,
            "grid_gap": null,
            "max_width": null,
            "order": null,
            "_view_module_version": "1.2.0",
            "grid_template_areas": null,
            "object_position": null,
            "object_fit": null,
            "grid_auto_columns": null,
            "margin": null,
            "display": null,
            "left": null
          }
        },
        "00667edbb6dd4e84a091402877d4947f": {
          "model_module": "@jupyter-widgets/controls",
          "model_name": "SliderStyleModel",
          "state": {
            "_view_name": "StyleView",
            "handle_color": null,
            "_model_name": "SliderStyleModel",
            "description_width": "",
            "_view_module": "@jupyter-widgets/base",
            "_model_module_version": "1.5.0",
            "_view_count": null,
            "_view_module_version": "1.2.0",
            "_model_module": "@jupyter-widgets/controls"
          }
        },
        "aa15005e12d84c399f309f0663eb5234": {
          "model_module": "@jupyter-widgets/base",
          "model_name": "LayoutModel",
          "state": {
            "_view_name": "LayoutView",
            "grid_template_rows": null,
            "right": null,
            "justify_content": null,
            "_view_module": "@jupyter-widgets/base",
            "overflow": null,
            "_model_module_version": "1.2.0",
            "_view_count": null,
            "flex_flow": null,
            "width": null,
            "min_width": null,
            "border": null,
            "align_items": null,
            "bottom": null,
            "_model_module": "@jupyter-widgets/base",
            "top": null,
            "grid_column": null,
            "overflow_y": null,
            "overflow_x": null,
            "grid_auto_flow": null,
            "grid_area": null,
            "grid_template_columns": null,
            "flex": null,
            "_model_name": "LayoutModel",
            "justify_items": null,
            "grid_row": null,
            "max_height": null,
            "align_content": null,
            "visibility": null,
            "align_self": null,
            "height": null,
            "min_height": null,
            "padding": null,
            "grid_auto_rows": null,
            "grid_gap": null,
            "max_width": null,
            "order": null,
            "_view_module_version": "1.2.0",
            "grid_template_areas": null,
            "object_position": null,
            "object_fit": null,
            "grid_auto_columns": null,
            "margin": null,
            "display": null,
            "left": null
          }
        },
        "399a74134e10495691a2e7772ff4028f": {
          "model_module": "@jupyter-widgets/base",
          "model_name": "LayoutModel",
          "state": {
            "_view_name": "LayoutView",
            "grid_template_rows": null,
            "right": null,
            "justify_content": null,
            "_view_module": "@jupyter-widgets/base",
            "overflow": null,
            "_model_module_version": "1.2.0",
            "_view_count": null,
            "flex_flow": null,
            "width": null,
            "min_width": null,
            "border": null,
            "align_items": null,
            "bottom": null,
            "_model_module": "@jupyter-widgets/base",
            "top": null,
            "grid_column": null,
            "overflow_y": null,
            "overflow_x": null,
            "grid_auto_flow": null,
            "grid_area": null,
            "grid_template_columns": null,
            "flex": null,
            "_model_name": "LayoutModel",
            "justify_items": null,
            "grid_row": null,
            "max_height": null,
            "align_content": null,
            "visibility": null,
            "align_self": null,
            "height": null,
            "min_height": null,
            "padding": null,
            "grid_auto_rows": null,
            "grid_gap": null,
            "max_width": null,
            "order": null,
            "_view_module_version": "1.2.0",
            "grid_template_areas": null,
            "object_position": null,
            "object_fit": null,
            "grid_auto_columns": null,
            "margin": null,
            "display": null,
            "left": null
          }
        }
      }
    }
  },
  "cells": [
    {
      "cell_type": "markdown",
      "metadata": {
        "id": "view-in-github",
        "colab_type": "text"
      },
      "source": [
        "<a href=\"https://colab.research.google.com/github/misael1062/Introduccion_a_Python-Curso_Online/blob/main/calculo_de_matrices.ipynb\" target=\"_parent\"><img src=\"https://colab.research.google.com/assets/colab-badge.svg\" alt=\"Open In Colab\"/></a>"
      ]
    },
    {
      "cell_type": "markdown",
      "metadata": {
        "id": "3DmtA2eG6hlX"
      },
      "source": [
        "#MISAEL ALVAREZ GARCIA\r\n",
        "\r\n",
        "##OPTOMECANICA\r\n",
        "\r\n",
        "###OP-501\r\n",
        "\r\n",
        "####26/02/2021"
      ]
    },
    {
      "cell_type": "code",
      "metadata": {
        "id": "PCAEVab85BRY"
      },
      "source": [
        "#EJERCICIOS RESUELTOS EN CLASE \r\n",
        "\r\n",
        "import numpy as np\r\n",
        "import matplotlib.pyplot as plt\r\n",
        "import ipywidgets"
      ],
      "execution_count": 25,
      "outputs": []
    },
    {
      "cell_type": "code",
      "metadata": {
        "id": "HDqIYzpf63e_"
      },
      "source": [
        "def funcion1(x):\r\n",
        "    y = 2*x+5 - np.sin(x)\r\n",
        "    return y"
      ],
      "execution_count": 2,
      "outputs": []
    },
    {
      "cell_type": "code",
      "metadata": {
        "colab": {
          "base_uri": "https://localhost:8080/",
          "height": 0
        },
        "id": "WPuvJo5366SD",
        "outputId": "e75a9ac8-ee9c-4de6-d8c7-742a4ea14f05"
      },
      "source": [
        "funcion1(3)"
      ],
      "execution_count": 3,
      "outputs": [
        {
          "output_type": "execute_result",
          "data": {
            "text/plain": [
              "10.858879991940134"
            ]
          },
          "metadata": {
            "tags": []
          },
          "execution_count": 3
        }
      ]
    },
    {
      "cell_type": "code",
      "metadata": {
        "id": "sXsN_kiv66q4"
      },
      "source": [
        "def matriz_desplazamiento(d):\r\n",
        "    matriz = np.matrix([ [1, d] , [0, 1] ])\r\n",
        "    return matriz\r\n",
        "def matriz_superficie_plana(n1, n2):\r\n",
        "    matriz = np.matrix([ [1, 0] , [0, n1/n2] ])\r\n",
        "    return matriz\r\n",
        "\r\n",
        "def matriz_superficie_curva(n1, n2, radio):\r\n",
        "    matriz = np.matrix([ [1, 0] , [-(n2-n1)/(n2*radio) , n1/n2 ]])\r\n",
        "    return matriz"
      ],
      "execution_count": 18,
      "outputs": []
    },
    {
      "cell_type": "code",
      "metadata": {
        "id": "m2lQfjNc67Ii"
      },
      "source": [
        "from IPython.display import display, Markdown"
      ],
      "execution_count": 19,
      "outputs": []
    },
    {
      "cell_type": "code",
      "metadata": {
        "colab": {
          "base_uri": "https://localhost:8080/",
          "height": 720
        },
        "id": "wAk5Ikow7Id4",
        "outputId": "b3a05a7e-4111-4e4f-ebbb-0cfd96250e78"
      },
      "source": [
        "#EJERCICIOS CLASE ANTERIOR\r\n",
        "#ejercicio inciso A)\r\n",
        "V0 = np.matrix('3; 0.05')\r\n",
        "M1 = matriz_desplazamiento(5)\r\n",
        "Vf = M1 * V0\r\n",
        "display(Markdown('# El resultado del A) es '))\r\n",
        "print(Vf)\r\n",
        "\r\n",
        "#Ejercicio inciso B)\r\n",
        "V1 = np.matrix('3; 0.05')\r\n",
        "M1_5 = matriz_desplazamiento(10)\r\n",
        "Vf = M1_5 * V1\r\n",
        "display(Markdown('# El resultado del B) es '))\r\n",
        "print(Vf)\r\n",
        "\r\n",
        "#Ejercicio inciso C)\r\n",
        "V3 = np.matrix('3; 0.05')\r\n",
        "M2 = matriz_superficie_plana(1, 1.3)\r\n",
        "Vf = M2 * V3\r\n",
        "display(Markdown('# El resultado del C) es '))\r\n",
        "print(Vf)\r\n",
        "\r\n",
        "#Ejercicio inciso D)\r\n",
        "V4 = np.matrix('3; 0.05')\r\n",
        "M3 = matriz_superficie_plana(1.5, 1)\r\n",
        "Vf = M3 * V4\r\n",
        "display(Markdown('# El resultado del D) es '))\r\n",
        "print(Vf)\r\n",
        "\r\n",
        "#Ejrcicio inciso E)\r\n",
        "V5 = np.matrix('3; 0.05')\r\n",
        "M4 = matriz_superficie_curva(1, 1.3, 4)\r\n",
        "Vf = M4 * V5\r\n",
        "display(Markdown('# El resultado del e) es '))\r\n",
        "print(Vf)\r\n",
        "\r\n",
        "#Ejercicio inciso F)\r\n",
        "V6 = np.matrix('3; 0.05')\r\n",
        "M5 = matriz_superficie_curva(1.5, 1, -3)\r\n",
        "Vf = M5 * V6\r\n",
        "display(Markdown('# El resultado del F) es '))\r\n",
        "print(Vf)\r\n",
        "\r\n",
        "#Ejercicio inciso G)\r\n",
        "V6 = np.matrix('3; 0.05')\r\n",
        "M6_1 = matriz_desplazamiento(5)\r\n",
        "M6_2 = matriz_superficie_plana(1, 1.4)\r\n",
        "M6_3 = matriz_desplazamiento(5)\r\n",
        "V1 = M6_1 * V6\r\n",
        "V2 = M6_2 * V1\r\n",
        "V3 = M6_3 * V2\r\n",
        "#Vf = M5\r\n",
        "display(Markdown('# El resultado del G) es '))\r\n",
        "print(V3)\r\n",
        "#print(M6_1*M6_2*M6_3*V6)\r\n",
        "print('La matriz correcta es esta')\r\n",
        "print(M6_3*M6_2*M6_1*V6)\r\n"
      ],
      "execution_count": 24,
      "outputs": [
        {
          "output_type": "display_data",
          "data": {
            "text/markdown": "# El resultado del A) es ",
            "text/plain": [
              "<IPython.core.display.Markdown object>"
            ]
          },
          "metadata": {
            "tags": []
          }
        },
        {
          "output_type": "stream",
          "text": [
            "[[3.25]\n",
            " [0.05]]\n"
          ],
          "name": "stdout"
        },
        {
          "output_type": "display_data",
          "data": {
            "text/markdown": "# El resultado del B) es ",
            "text/plain": [
              "<IPython.core.display.Markdown object>"
            ]
          },
          "metadata": {
            "tags": []
          }
        },
        {
          "output_type": "stream",
          "text": [
            "[[3.5 ]\n",
            " [0.05]]\n"
          ],
          "name": "stdout"
        },
        {
          "output_type": "display_data",
          "data": {
            "text/markdown": "# El resultado del C) es ",
            "text/plain": [
              "<IPython.core.display.Markdown object>"
            ]
          },
          "metadata": {
            "tags": []
          }
        },
        {
          "output_type": "stream",
          "text": [
            "[[3.        ]\n",
            " [0.03846154]]\n"
          ],
          "name": "stdout"
        },
        {
          "output_type": "display_data",
          "data": {
            "text/markdown": "# El resultado del D) es ",
            "text/plain": [
              "<IPython.core.display.Markdown object>"
            ]
          },
          "metadata": {
            "tags": []
          }
        },
        {
          "output_type": "stream",
          "text": [
            "[[3.   ]\n",
            " [0.075]]\n"
          ],
          "name": "stdout"
        },
        {
          "output_type": "display_data",
          "data": {
            "text/markdown": "# El resultado del e) es ",
            "text/plain": [
              "<IPython.core.display.Markdown object>"
            ]
          },
          "metadata": {
            "tags": []
          }
        },
        {
          "output_type": "stream",
          "text": [
            "[[ 3.        ]\n",
            " [-0.13461538]]\n"
          ],
          "name": "stdout"
        },
        {
          "output_type": "display_data",
          "data": {
            "text/markdown": "# El resultado del F) es ",
            "text/plain": [
              "<IPython.core.display.Markdown object>"
            ]
          },
          "metadata": {
            "tags": []
          }
        },
        {
          "output_type": "stream",
          "text": [
            "[[ 3.   ]\n",
            " [-0.425]]\n"
          ],
          "name": "stdout"
        },
        {
          "output_type": "display_data",
          "data": {
            "text/markdown": "# El resultado del G) es ",
            "text/plain": [
              "<IPython.core.display.Markdown object>"
            ]
          },
          "metadata": {
            "tags": []
          }
        },
        {
          "output_type": "stream",
          "text": [
            "[[3.42857143]\n",
            " [0.03571429]]\n",
            "La matriz correcta es esta\n",
            "[[3.42857143]\n",
            " [0.03571429]]\n"
          ],
          "name": "stdout"
        }
      ]
    },
    {
      "cell_type": "markdown",
      "metadata": {
        "id": "FSpCFIfLDsk1"
      },
      "source": [
        "En un sistema de multiples matrices, el resultado de todas las matrices intermedias es lo que se conoce como matriz equivalente del sistema"
      ]
    },
    {
      "cell_type": "code",
      "metadata": {
        "colab": {
          "base_uri": "https://localhost:8080/",
          "height": 0
        },
        "id": "B04x-zZaD0iU",
        "outputId": "4b2ef7b6-679c-49c9-c9f3-0405e1b087a1"
      },
      "source": [
        "#En el G) la matriz equivalente \r\n",
        "M_equivalente = M6_3*M6_2*M6_1\r\n",
        "print(M_equivalente)\r\n",
        "\r\n",
        "#Con esto podemos calcular el resultado al cambiar las condicionales iniciales"
      ],
      "execution_count": 26,
      "outputs": [
        {
          "output_type": "stream",
          "text": [
            "[[1.         8.57142857]\n",
            " [0.         0.71428571]]\n"
          ],
          "name": "stdout"
        }
      ]
    },
    {
      "cell_type": "code",
      "metadata": {
        "colab": {
          "base_uri": "https://localhost:8080/",
          "height": 134,
          "referenced_widgets": [
            "1968069c941c40db9031c45addd9909d",
            "d00666a60ad242b0befc58a295f8ec4a",
            "00366969321946e5a03de01d1a8eba94",
            "c58dd10019364c5a8a9effde50b4b8c1",
            "06690d5a7b294aaebb104d7d37071fc2",
            "00d206e32260487da7eb2fb67ac0793c",
            "e76e913bf80743d599127d90f1cf1c47",
            "00667edbb6dd4e84a091402877d4947f",
            "aa15005e12d84c399f309f0663eb5234",
            "399a74134e10495691a2e7772ff4028f"
          ]
        },
        "id": "rybS-FLlEWMC",
        "outputId": "2f6e976c-d64f-4a98-dc9c-ec3a83a65b5b"
      },
      "source": [
        "#Vamos a hacer un ejemplo de una celda interactiva\r\n",
        "#ipywidgets.interact(matriz_desplazamiento, d = [0,10,1])\r\n",
        "\r\n",
        "#funcion lambda\r\n",
        "#Lambda x,y : lo que haga la funcion con las variables x , y\r\n",
        "#Si quiero que la funcion haga x+y lo escribo como\r\n",
        "#lambda x,y : x + y\r\n",
        "ipywidgets.interact(lambda y0, angulo0 : M_equivalente*np.matrix([[y0], [angulo0]]) , #aqui termina el primer argumento\r\n",
        "                    y0 =(-2, 2, 0.1), #Seundo argumento\r\n",
        "                    angulo0 = (-0.1, 0.1, 0.01)) #Tercer argumento"
      ],
      "execution_count": 33,
      "outputs": [
        {
          "output_type": "display_data",
          "data": {
            "application/vnd.jupyter.widget-view+json": {
              "model_id": "1968069c941c40db9031c45addd9909d",
              "version_minor": 0,
              "version_major": 2
            },
            "text/plain": [
              "interactive(children=(FloatSlider(value=0.0, description='y0', max=2.0, min=-2.0), FloatSlider(value=0.0, desc…"
            ]
          },
          "metadata": {
            "tags": []
          }
        },
        {
          "output_type": "execute_result",
          "data": {
            "text/plain": [
              "<function __main__.<lambda>>"
            ]
          },
          "metadata": {
            "tags": []
          },
          "execution_count": 33
        }
      ]
    }
  ]
}